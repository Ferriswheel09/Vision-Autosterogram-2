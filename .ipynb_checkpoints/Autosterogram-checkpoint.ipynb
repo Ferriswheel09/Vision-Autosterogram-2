{
 "cells": [
  {
   "cell_type": "code",
   "execution_count": null,
   "id": "c037b62e-b859-4f40-b031-d84d25ef814b",
   "metadata": {},
   "outputs": [],
   "source": [
    "from PIL import Image\n",
    "import numpy as np\n",
    "import matplotlib.pyplot as plt\n",
    "\n",
    "# Load the depth map\n",
    "depth_map = Image.open('images/example.png').convert('L')  # Convert to grayscale\n",
    "depth_array = np.array(depth_map)\n",
    "\n",
    "plt.figure(figsize=(6, 6))  # Adjust the figure size\n",
    "plt.imshow(depth_array, cmap='gray')  # Show as grayscale\n",
    "plt.title('Depth Map')  # Add a title\n",
    "plt.axis('off')  # Hide axes\n",
    "plt.show()"
   ]
  }
 ],
 "metadata": {
  "kernelspec": {
   "display_name": "Python (venv)",
   "language": "python",
   "name": "venv"
  },
  "language_info": {
   "codemirror_mode": {
    "name": "ipython",
    "version": 3
   },
   "file_extension": ".py",
   "mimetype": "text/x-python",
   "name": "python",
   "nbconvert_exporter": "python",
   "pygments_lexer": "ipython3",
   "version": "3.12.3"
  }
 },
 "nbformat": 4,
 "nbformat_minor": 5
}
